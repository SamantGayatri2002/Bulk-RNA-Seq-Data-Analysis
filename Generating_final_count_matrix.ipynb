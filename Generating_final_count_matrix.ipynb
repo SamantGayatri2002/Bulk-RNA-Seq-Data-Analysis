{
  "nbformat": 4,
  "nbformat_minor": 0,
  "metadata": {
    "colab": {
      "provenance": []
    },
    "kernelspec": {
      "name": "python3",
      "display_name": "Python 3"
    },
    "language_info": {
      "name": "python"
    }
  },
  "cells": [
    {
      "cell_type": "code",
      "execution_count": null,
      "metadata": {
        "colab": {
          "base_uri": "https://localhost:8080/"
        },
        "id": "n1vmYBhB7Tjx",
        "outputId": "a7eaf8cb-cb33-4a87-f66d-82a3b0cd116a"
      },
      "outputs": [
        {
          "output_type": "stream",
          "name": "stdout",
          "text": [
            "Files found: ['/content/drive/MyDrive/quants/LNCAP_Hypoxia_S1_featurecounts.txt', '/content/drive/MyDrive/quants/LNCAP_Hypoxia_S2_featurecounts.txt', '/content/drive/MyDrive/quants/LNCAP_Normoxia_S1_featurecounts.txt', '/content/drive/MyDrive/quants/LNCAP_Normoxia_S2_featurecounts.txt', '/content/drive/MyDrive/quants/PC3_Hypoxia_S1_featurecounts.txt', '/content/drive/MyDrive/quants/PC3_Hypoxia_S2_featurecounts.txt', '/content/drive/MyDrive/quants/PC3_Normoxia_S1_featurecounts.txt', '/content/drive/MyDrive/quants/PC3_Normoxia_S2_featurecounts.txt']\n",
            "Completed LNCAP_Hypoxia_S1 | Rows: 78894 | Time: 0.05 min\n",
            "Completed LNCAP_Hypoxia_S2 | Rows: 78894 | Time: 0.04 min\n",
            "Completed LNCAP_Normoxia_S1 | Rows: 78894 | Time: 0.04 min\n",
            "Completed LNCAP_Normoxia_S2 | Rows: 78894 | Time: 0.05 min\n",
            "Completed PC3_Hypoxia_S1 | Rows: 78894 | Time: 0.05 min\n",
            "Completed PC3_Hypoxia_S2 | Rows: 78894 | Time: 0.04 min\n",
            "Completed PC3_Normoxia_S1 | Rows: 78894 | Time: 0.04 min\n",
            "Completed PC3_Normoxia_S2 | Rows: 78894 | Time: 0.05 min\n",
            "\\All files processed!\n",
            "Merged matrix shape: (78894, 9)\n",
            "Saved to: /content/drive/MyDrive/quants/GSE106305_counts_matrix.csv\n"
          ]
        }
      ],
      "source": [
        "import os\n",
        "import glob\n",
        "import pandas as pd\n",
        "import time\n",
        "\n",
        "path = \"/content/drive/MyDrive/quants\"\n",
        "files = glob.glob(os.path.join(path, \"*.txt\"))\n",
        "\n",
        "print(\"Files found:\", files)\n",
        "\n",
        "all_counts = []\n",
        "\n",
        "for file in files:\n",
        "    start_time = time.time()\n",
        "    df = pd.read_csv(file, sep=\"\\t\", comment=\"#\")\n",
        "\n",
        "    sample_name = os.path.basename(file).replace(\"_featurecounts.txt\", \"\")\n",
        "    df = df[[\"Geneid\", df.columns[-1]]]\n",
        "    df.rename(columns={df.columns[-1]: sample_name}, inplace=True)\n",
        "\n",
        "    all_counts.append(df)\n",
        "\n",
        "    elapsed = (time.time() - start_time) / 60  # minutes\n",
        "    print(f\"Completed {sample_name} | Rows: {df.shape[0]} | Time: {elapsed:.2f} min\")\n",
        "\n",
        "counts_matrix = all_counts[0]\n",
        "for df in all_counts[1:]:\n",
        "    counts_matrix = counts_matrix.merge(df, on=\"Geneid\", how=\"outer\")\n",
        "\n",
        "output_file = os.path.join(path, \"GSE106305_counts_matrix.csv\")\n",
        "counts_matrix.to_csv(output_file, index=False)\n",
        "\n",
        "print(\"\\All files processed!\")\n",
        "print(\"Merged matrix shape:\", counts_matrix.shape)\n",
        "print(\"Saved to:\", output_file)"
      ]
    },
    {
      "cell_type": "code",
      "source": [],
      "metadata": {
        "id": "6z42mJ0O-1JX"
      },
      "execution_count": null,
      "outputs": []
    }
  ]
}